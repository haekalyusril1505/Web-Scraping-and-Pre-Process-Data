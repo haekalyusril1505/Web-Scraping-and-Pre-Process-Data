{
 "cells": [
  {
   "cell_type": "markdown",
   "id": "8082c67a",
   "metadata": {},
   "source": [
    "## Proses Scraping"
   ]
  },
  {
   "cell_type": "code",
   "execution_count": 1,
   "id": "22c6af79",
   "metadata": {},
   "outputs": [],
   "source": [
    "from selenium import webdriver\n",
    "from selenium.webdriver.support.ui import WebDriverWait\n",
    "from selenium.webdriver.support.ui import Select\n",
    "from datetime import date\n",
    "from datetime import timedelta\n",
    "from selenium.webdriver.common.keys import Keys\n",
    "import pandas as pd\n",
    "import numpy as np\n",
    "import time"
   ]
  },
  {
   "cell_type": "code",
   "execution_count": 2,
   "id": "a32bdd74",
   "metadata": {},
   "outputs": [],
   "source": [
    "username = 'Tc19Phe0C'\n",
    "password = 'Allrecord123'"
   ]
  },
  {
   "cell_type": "code",
   "execution_count": 3,
   "id": "3ca5a8ac",
   "metadata": {},
   "outputs": [
    {
     "name": "stderr",
     "output_type": "stream",
     "text": [
      "C:\\Users\\user\\AppData\\Local\\Temp\\ipykernel_5720\\666003245.py:2: DeprecationWarning: executable_path has been deprecated, please pass in a Service object\n",
      "  driver = webdriver.Chrome(chromepath+'\\chromedriver.exe')\n"
     ]
    }
   ],
   "source": [
    "chromepath = 'D:\\Works\\Inovastek'\n",
    "driver = webdriver.Chrome(chromepath+'\\chromedriver.exe')"
   ]
  },
  {
   "cell_type": "code",
   "execution_count": 4,
   "id": "ea901442",
   "metadata": {},
   "outputs": [],
   "source": [
    "list_judul = ['No', 'Provinsi - Kabupaten/Kota', 'Kasus Kumulatif Positif', 'Kasus Aktif', 'Kasus Kumulatif Sembuh', 'Kasus Kumulatif Meninggal']\n",
    "df = pd.DataFrame(columns = list_judul)"
   ]
  },
  {
   "cell_type": "code",
   "execution_count": 5,
   "id": "ede5894a",
   "metadata": {},
   "outputs": [],
   "source": [
    "driver.get(\"https://allrecord-tc19.kemkes.go.id/LapseskasRilis\")"
   ]
  },
  {
   "cell_type": "markdown",
   "id": "539bf570",
   "metadata": {},
   "source": [
    "## Masukin Password dan Selesain Captcha Dulu !!!!"
   ]
  },
  {
   "cell_type": "code",
   "execution_count": 6,
   "id": "d2bac823",
   "metadata": {},
   "outputs": [],
   "source": [
    "driver.get(\"https://allrecord-tc19.kemkes.go.id/LapseskasRilis\")"
   ]
  },
  {
   "cell_type": "code",
   "execution_count": 7,
   "id": "3b504715",
   "metadata": {},
   "outputs": [],
   "source": [
    "waktu = (date.today() - timedelta(days=1)).strftime('%d-%m-%Y')"
   ]
  },
  {
   "cell_type": "code",
   "execution_count": 8,
   "id": "cc7955b7",
   "metadata": {},
   "outputs": [],
   "source": [
    "list_waktu = ['07-12-2022']"
   ]
  },
  {
   "cell_type": "code",
   "execution_count": 9,
   "id": "53e52dda",
   "metadata": {},
   "outputs": [
    {
     "name": "stdout",
     "output_type": "stream",
     "text": [
      "Provinsi 1 dari 34\n"
     ]
    },
    {
     "name": "stderr",
     "output_type": "stream",
     "text": [
      "C:\\Users\\user\\AppData\\Local\\Temp\\ipykernel_5720\\4159581589.py:24: FutureWarning: The frame.append method is deprecated and will be removed from pandas in a future version. Use pandas.concat instead.\n",
      "  df = df.append(df_temp)\n"
     ]
    },
    {
     "name": "stdout",
     "output_type": "stream",
     "text": [
      "Provinsi 2 dari 34\n"
     ]
    },
    {
     "name": "stderr",
     "output_type": "stream",
     "text": [
      "C:\\Users\\user\\AppData\\Local\\Temp\\ipykernel_5720\\4159581589.py:24: FutureWarning: The frame.append method is deprecated and will be removed from pandas in a future version. Use pandas.concat instead.\n",
      "  df = df.append(df_temp)\n"
     ]
    },
    {
     "name": "stdout",
     "output_type": "stream",
     "text": [
      "Provinsi 3 dari 34\n"
     ]
    },
    {
     "name": "stderr",
     "output_type": "stream",
     "text": [
      "C:\\Users\\user\\AppData\\Local\\Temp\\ipykernel_5720\\4159581589.py:24: FutureWarning: The frame.append method is deprecated and will be removed from pandas in a future version. Use pandas.concat instead.\n",
      "  df = df.append(df_temp)\n"
     ]
    },
    {
     "name": "stdout",
     "output_type": "stream",
     "text": [
      "Provinsi 4 dari 34\n"
     ]
    },
    {
     "name": "stderr",
     "output_type": "stream",
     "text": [
      "C:\\Users\\user\\AppData\\Local\\Temp\\ipykernel_5720\\4159581589.py:24: FutureWarning: The frame.append method is deprecated and will be removed from pandas in a future version. Use pandas.concat instead.\n",
      "  df = df.append(df_temp)\n"
     ]
    },
    {
     "name": "stdout",
     "output_type": "stream",
     "text": [
      "Provinsi 5 dari 34\n"
     ]
    },
    {
     "name": "stderr",
     "output_type": "stream",
     "text": [
      "C:\\Users\\user\\AppData\\Local\\Temp\\ipykernel_5720\\4159581589.py:24: FutureWarning: The frame.append method is deprecated and will be removed from pandas in a future version. Use pandas.concat instead.\n",
      "  df = df.append(df_temp)\n"
     ]
    },
    {
     "name": "stdout",
     "output_type": "stream",
     "text": [
      "Provinsi 6 dari 34\n"
     ]
    },
    {
     "name": "stderr",
     "output_type": "stream",
     "text": [
      "C:\\Users\\user\\AppData\\Local\\Temp\\ipykernel_5720\\4159581589.py:24: FutureWarning: The frame.append method is deprecated and will be removed from pandas in a future version. Use pandas.concat instead.\n",
      "  df = df.append(df_temp)\n"
     ]
    },
    {
     "name": "stdout",
     "output_type": "stream",
     "text": [
      "Provinsi 7 dari 34\n"
     ]
    },
    {
     "name": "stderr",
     "output_type": "stream",
     "text": [
      "C:\\Users\\user\\AppData\\Local\\Temp\\ipykernel_5720\\4159581589.py:24: FutureWarning: The frame.append method is deprecated and will be removed from pandas in a future version. Use pandas.concat instead.\n",
      "  df = df.append(df_temp)\n"
     ]
    },
    {
     "name": "stdout",
     "output_type": "stream",
     "text": [
      "Provinsi 8 dari 34\n"
     ]
    },
    {
     "name": "stderr",
     "output_type": "stream",
     "text": [
      "C:\\Users\\user\\AppData\\Local\\Temp\\ipykernel_5720\\4159581589.py:24: FutureWarning: The frame.append method is deprecated and will be removed from pandas in a future version. Use pandas.concat instead.\n",
      "  df = df.append(df_temp)\n"
     ]
    },
    {
     "name": "stdout",
     "output_type": "stream",
     "text": [
      "Provinsi 9 dari 34\n"
     ]
    },
    {
     "name": "stderr",
     "output_type": "stream",
     "text": [
      "C:\\Users\\user\\AppData\\Local\\Temp\\ipykernel_5720\\4159581589.py:24: FutureWarning: The frame.append method is deprecated and will be removed from pandas in a future version. Use pandas.concat instead.\n",
      "  df = df.append(df_temp)\n"
     ]
    },
    {
     "name": "stdout",
     "output_type": "stream",
     "text": [
      "Provinsi 10 dari 34\n"
     ]
    },
    {
     "name": "stderr",
     "output_type": "stream",
     "text": [
      "C:\\Users\\user\\AppData\\Local\\Temp\\ipykernel_5720\\4159581589.py:24: FutureWarning: The frame.append method is deprecated and will be removed from pandas in a future version. Use pandas.concat instead.\n",
      "  df = df.append(df_temp)\n"
     ]
    },
    {
     "name": "stdout",
     "output_type": "stream",
     "text": [
      "Provinsi 11 dari 34\n"
     ]
    },
    {
     "name": "stderr",
     "output_type": "stream",
     "text": [
      "C:\\Users\\user\\AppData\\Local\\Temp\\ipykernel_5720\\4159581589.py:24: FutureWarning: The frame.append method is deprecated and will be removed from pandas in a future version. Use pandas.concat instead.\n",
      "  df = df.append(df_temp)\n"
     ]
    },
    {
     "name": "stdout",
     "output_type": "stream",
     "text": [
      "Provinsi 12 dari 34\n"
     ]
    },
    {
     "name": "stderr",
     "output_type": "stream",
     "text": [
      "C:\\Users\\user\\AppData\\Local\\Temp\\ipykernel_5720\\4159581589.py:24: FutureWarning: The frame.append method is deprecated and will be removed from pandas in a future version. Use pandas.concat instead.\n",
      "  df = df.append(df_temp)\n"
     ]
    },
    {
     "name": "stdout",
     "output_type": "stream",
     "text": [
      "Provinsi 13 dari 34\n"
     ]
    },
    {
     "name": "stderr",
     "output_type": "stream",
     "text": [
      "C:\\Users\\user\\AppData\\Local\\Temp\\ipykernel_5720\\4159581589.py:24: FutureWarning: The frame.append method is deprecated and will be removed from pandas in a future version. Use pandas.concat instead.\n",
      "  df = df.append(df_temp)\n"
     ]
    },
    {
     "name": "stdout",
     "output_type": "stream",
     "text": [
      "Provinsi 14 dari 34\n"
     ]
    },
    {
     "name": "stderr",
     "output_type": "stream",
     "text": [
      "C:\\Users\\user\\AppData\\Local\\Temp\\ipykernel_5720\\4159581589.py:24: FutureWarning: The frame.append method is deprecated and will be removed from pandas in a future version. Use pandas.concat instead.\n",
      "  df = df.append(df_temp)\n"
     ]
    },
    {
     "name": "stdout",
     "output_type": "stream",
     "text": [
      "Provinsi 15 dari 34\n"
     ]
    },
    {
     "name": "stderr",
     "output_type": "stream",
     "text": [
      "C:\\Users\\user\\AppData\\Local\\Temp\\ipykernel_5720\\4159581589.py:24: FutureWarning: The frame.append method is deprecated and will be removed from pandas in a future version. Use pandas.concat instead.\n",
      "  df = df.append(df_temp)\n"
     ]
    },
    {
     "name": "stdout",
     "output_type": "stream",
     "text": [
      "Provinsi 16 dari 34\n"
     ]
    },
    {
     "name": "stderr",
     "output_type": "stream",
     "text": [
      "C:\\Users\\user\\AppData\\Local\\Temp\\ipykernel_5720\\4159581589.py:24: FutureWarning: The frame.append method is deprecated and will be removed from pandas in a future version. Use pandas.concat instead.\n",
      "  df = df.append(df_temp)\n"
     ]
    },
    {
     "name": "stdout",
     "output_type": "stream",
     "text": [
      "Provinsi 17 dari 34\n"
     ]
    },
    {
     "name": "stderr",
     "output_type": "stream",
     "text": [
      "C:\\Users\\user\\AppData\\Local\\Temp\\ipykernel_5720\\4159581589.py:24: FutureWarning: The frame.append method is deprecated and will be removed from pandas in a future version. Use pandas.concat instead.\n",
      "  df = df.append(df_temp)\n"
     ]
    },
    {
     "name": "stdout",
     "output_type": "stream",
     "text": [
      "Provinsi 18 dari 34\n"
     ]
    },
    {
     "name": "stderr",
     "output_type": "stream",
     "text": [
      "C:\\Users\\user\\AppData\\Local\\Temp\\ipykernel_5720\\4159581589.py:24: FutureWarning: The frame.append method is deprecated and will be removed from pandas in a future version. Use pandas.concat instead.\n",
      "  df = df.append(df_temp)\n"
     ]
    },
    {
     "name": "stdout",
     "output_type": "stream",
     "text": [
      "Provinsi 19 dari 34\n"
     ]
    },
    {
     "name": "stderr",
     "output_type": "stream",
     "text": [
      "C:\\Users\\user\\AppData\\Local\\Temp\\ipykernel_5720\\4159581589.py:24: FutureWarning: The frame.append method is deprecated and will be removed from pandas in a future version. Use pandas.concat instead.\n",
      "  df = df.append(df_temp)\n"
     ]
    },
    {
     "name": "stdout",
     "output_type": "stream",
     "text": [
      "Provinsi 20 dari 34\n"
     ]
    },
    {
     "name": "stderr",
     "output_type": "stream",
     "text": [
      "C:\\Users\\user\\AppData\\Local\\Temp\\ipykernel_5720\\4159581589.py:24: FutureWarning: The frame.append method is deprecated and will be removed from pandas in a future version. Use pandas.concat instead.\n",
      "  df = df.append(df_temp)\n"
     ]
    },
    {
     "name": "stdout",
     "output_type": "stream",
     "text": [
      "Provinsi 21 dari 34\n"
     ]
    },
    {
     "name": "stderr",
     "output_type": "stream",
     "text": [
      "C:\\Users\\user\\AppData\\Local\\Temp\\ipykernel_5720\\4159581589.py:24: FutureWarning: The frame.append method is deprecated and will be removed from pandas in a future version. Use pandas.concat instead.\n",
      "  df = df.append(df_temp)\n"
     ]
    },
    {
     "name": "stdout",
     "output_type": "stream",
     "text": [
      "Provinsi 22 dari 34\n"
     ]
    },
    {
     "name": "stderr",
     "output_type": "stream",
     "text": [
      "C:\\Users\\user\\AppData\\Local\\Temp\\ipykernel_5720\\4159581589.py:24: FutureWarning: The frame.append method is deprecated and will be removed from pandas in a future version. Use pandas.concat instead.\n",
      "  df = df.append(df_temp)\n"
     ]
    },
    {
     "name": "stdout",
     "output_type": "stream",
     "text": [
      "Provinsi 23 dari 34\n"
     ]
    },
    {
     "name": "stderr",
     "output_type": "stream",
     "text": [
      "C:\\Users\\user\\AppData\\Local\\Temp\\ipykernel_5720\\4159581589.py:24: FutureWarning: The frame.append method is deprecated and will be removed from pandas in a future version. Use pandas.concat instead.\n",
      "  df = df.append(df_temp)\n"
     ]
    },
    {
     "name": "stdout",
     "output_type": "stream",
     "text": [
      "Provinsi 24 dari 34\n"
     ]
    },
    {
     "name": "stderr",
     "output_type": "stream",
     "text": [
      "C:\\Users\\user\\AppData\\Local\\Temp\\ipykernel_5720\\4159581589.py:24: FutureWarning: The frame.append method is deprecated and will be removed from pandas in a future version. Use pandas.concat instead.\n",
      "  df = df.append(df_temp)\n"
     ]
    },
    {
     "name": "stdout",
     "output_type": "stream",
     "text": [
      "Provinsi 25 dari 34\n"
     ]
    },
    {
     "name": "stderr",
     "output_type": "stream",
     "text": [
      "C:\\Users\\user\\AppData\\Local\\Temp\\ipykernel_5720\\4159581589.py:24: FutureWarning: The frame.append method is deprecated and will be removed from pandas in a future version. Use pandas.concat instead.\n",
      "  df = df.append(df_temp)\n"
     ]
    },
    {
     "name": "stdout",
     "output_type": "stream",
     "text": [
      "Provinsi 26 dari 34\n"
     ]
    },
    {
     "name": "stderr",
     "output_type": "stream",
     "text": [
      "C:\\Users\\user\\AppData\\Local\\Temp\\ipykernel_5720\\4159581589.py:24: FutureWarning: The frame.append method is deprecated and will be removed from pandas in a future version. Use pandas.concat instead.\n",
      "  df = df.append(df_temp)\n"
     ]
    },
    {
     "name": "stdout",
     "output_type": "stream",
     "text": [
      "Provinsi 27 dari 34\n"
     ]
    },
    {
     "name": "stderr",
     "output_type": "stream",
     "text": [
      "C:\\Users\\user\\AppData\\Local\\Temp\\ipykernel_5720\\4159581589.py:24: FutureWarning: The frame.append method is deprecated and will be removed from pandas in a future version. Use pandas.concat instead.\n",
      "  df = df.append(df_temp)\n"
     ]
    },
    {
     "name": "stdout",
     "output_type": "stream",
     "text": [
      "Provinsi 28 dari 34\n"
     ]
    },
    {
     "name": "stderr",
     "output_type": "stream",
     "text": [
      "C:\\Users\\user\\AppData\\Local\\Temp\\ipykernel_5720\\4159581589.py:24: FutureWarning: The frame.append method is deprecated and will be removed from pandas in a future version. Use pandas.concat instead.\n",
      "  df = df.append(df_temp)\n"
     ]
    },
    {
     "name": "stdout",
     "output_type": "stream",
     "text": [
      "Provinsi 29 dari 34\n"
     ]
    },
    {
     "name": "stderr",
     "output_type": "stream",
     "text": [
      "C:\\Users\\user\\AppData\\Local\\Temp\\ipykernel_5720\\4159581589.py:24: FutureWarning: The frame.append method is deprecated and will be removed from pandas in a future version. Use pandas.concat instead.\n",
      "  df = df.append(df_temp)\n"
     ]
    },
    {
     "name": "stdout",
     "output_type": "stream",
     "text": [
      "Provinsi 30 dari 34\n"
     ]
    },
    {
     "name": "stderr",
     "output_type": "stream",
     "text": [
      "C:\\Users\\user\\AppData\\Local\\Temp\\ipykernel_5720\\4159581589.py:24: FutureWarning: The frame.append method is deprecated and will be removed from pandas in a future version. Use pandas.concat instead.\n",
      "  df = df.append(df_temp)\n"
     ]
    },
    {
     "name": "stdout",
     "output_type": "stream",
     "text": [
      "Provinsi 31 dari 34\n"
     ]
    },
    {
     "name": "stderr",
     "output_type": "stream",
     "text": [
      "C:\\Users\\user\\AppData\\Local\\Temp\\ipykernel_5720\\4159581589.py:24: FutureWarning: The frame.append method is deprecated and will be removed from pandas in a future version. Use pandas.concat instead.\n",
      "  df = df.append(df_temp)\n"
     ]
    },
    {
     "name": "stdout",
     "output_type": "stream",
     "text": [
      "Provinsi 32 dari 34\n"
     ]
    },
    {
     "name": "stderr",
     "output_type": "stream",
     "text": [
      "C:\\Users\\user\\AppData\\Local\\Temp\\ipykernel_5720\\4159581589.py:24: FutureWarning: The frame.append method is deprecated and will be removed from pandas in a future version. Use pandas.concat instead.\n",
      "  df = df.append(df_temp)\n"
     ]
    },
    {
     "name": "stdout",
     "output_type": "stream",
     "text": [
      "Provinsi 33 dari 34\n"
     ]
    },
    {
     "name": "stderr",
     "output_type": "stream",
     "text": [
      "C:\\Users\\user\\AppData\\Local\\Temp\\ipykernel_5720\\4159581589.py:24: FutureWarning: The frame.append method is deprecated and will be removed from pandas in a future version. Use pandas.concat instead.\n",
      "  df = df.append(df_temp)\n"
     ]
    },
    {
     "name": "stdout",
     "output_type": "stream",
     "text": [
      "Provinsi 34 dari 34\n",
      "Waktu 07-12-2022Sudah Selesai\n"
     ]
    }
   ],
   "source": [
    "#waktu = (date.today() - timedelta(days=1)).strftime('%d-%m-%Y')\n",
    "for j in range(len(list_waktu)):\n",
    "    driver.get(\"https://allrecord-tc19.kemkes.go.id/LapseskasRilis\")\n",
    "    element = driver.find_element(\"id\",\"tgl_lapor2\")\n",
    "    element.send_keys(list_waktu[j])\n",
    "    element.send_keys(Keys.ESCAPE)\n",
    "    element = driver.find_element(\"id\",\"tgl_lapor1\")\n",
    "    element.send_keys('28-02-2020')\n",
    "    element.send_keys(Keys.ESCAPE)\n",
    "    df = pd.DataFrame(columns = list_judul)\n",
    "    for i in range(34):\n",
    "        select = Select(driver.find_element(\"id\",\"propinsi\"))\n",
    "        options = select.options\n",
    "        select.select_by_index(i+1)\n",
    "        element = driver.find_element('name','tampil')\n",
    "        element.click()\n",
    "        time.sleep(2)\n",
    "        df_temp = pd.read_html(driver.page_source)[1]\n",
    "        df_temp.drop(index=df_temp.index[-1],axis=0,inplace=True)\n",
    "        if i==0:\n",
    "            df = df_temp\n",
    "            print('Provinsi '+ str(i+1)+' dari 34')\n",
    "        else:\n",
    "            df = df.append(df_temp)\n",
    "            print('Provinsi '+ str(i+1)+' dari 34')\n",
    "    df2 = pd.read_csv('Kamus_Kabkot.csv')\n",
    "    df2.set_index('Kabkot', inplace=True)\n",
    "    df.set_index('PROVINSI & KABUPATEN/KOTA', inplace = True)\n",
    "    df_final = df2.join(df)\n",
    "    df_final.sort_values(by = ['No'], axis = 0, ascending=True, inplace = True)\n",
    "    df_final.to_csv('Data KabKota '+ list_waktu[j]+'.csv')\n",
    "print('Waktu '+ list_waktu[j]+ 'Sudah Selesai')"
   ]
  },
  {
   "cell_type": "code",
   "execution_count": 10,
   "id": "86e6f811",
   "metadata": {},
   "outputs": [],
   "source": [
    "driver.close()"
   ]
  },
  {
   "cell_type": "code",
   "execution_count": 59,
   "id": "69b27d8d",
   "metadata": {},
   "outputs": [],
   "source": [
    " df_final.to_csv('Data KabKota '+ list_waktu[j]+'.csv')"
   ]
  },
  {
   "cell_type": "code",
   "execution_count": null,
   "id": "43fbc68c",
   "metadata": {},
   "outputs": [],
   "source": []
  },
  {
   "cell_type": "code",
   "execution_count": null,
   "id": "b3152aa9",
   "metadata": {},
   "outputs": [],
   "source": []
  },
  {
   "cell_type": "code",
   "execution_count": null,
   "id": "ea733cda",
   "metadata": {},
   "outputs": [],
   "source": []
  },
  {
   "cell_type": "code",
   "execution_count": null,
   "id": "9df25f5b",
   "metadata": {},
   "outputs": [],
   "source": []
  },
  {
   "cell_type": "code",
   "execution_count": null,
   "id": "f4cb7f6e",
   "metadata": {},
   "outputs": [],
   "source": []
  },
  {
   "cell_type": "markdown",
   "id": "6eb2e359",
   "metadata": {},
   "source": [
    "# =========================================================="
   ]
  },
  {
   "cell_type": "code",
   "execution_count": 30,
   "id": "232d2925",
   "metadata": {},
   "outputs": [],
   "source": [
    "df_final.drop(['Positif', 'Aktif', 'Sembuh', 'Meninggal', 'No'], axis=1, inplace=True)"
   ]
  },
  {
   "cell_type": "code",
   "execution_count": 31,
   "id": "8aadbab6",
   "metadata": {},
   "outputs": [
    {
     "data": {
      "text/html": [
       "<div>\n",
       "<style scoped>\n",
       "    .dataframe tbody tr th:only-of-type {\n",
       "        vertical-align: middle;\n",
       "    }\n",
       "\n",
       "    .dataframe tbody tr th {\n",
       "        vertical-align: top;\n",
       "    }\n",
       "\n",
       "    .dataframe thead th {\n",
       "        text-align: right;\n",
       "    }\n",
       "</style>\n",
       "<table border=\"1\" class=\"dataframe\">\n",
       "  <thead>\n",
       "    <tr style=\"text-align: right;\">\n",
       "      <th></th>\n",
       "      <th>Kasus Kumulatif Positif</th>\n",
       "      <th>Kasus Aktif</th>\n",
       "      <th>Kasus Kumulatif Sembuh</th>\n",
       "      <th>Kasus Kumulatif Meninggal</th>\n",
       "    </tr>\n",
       "    <tr>\n",
       "      <th>Kabkot</th>\n",
       "      <th></th>\n",
       "      <th></th>\n",
       "      <th></th>\n",
       "      <th></th>\n",
       "    </tr>\n",
       "  </thead>\n",
       "  <tbody>\n",
       "    <tr>\n",
       "      <th>ACEH - ACEH SELATAN</th>\n",
       "      <td>975</td>\n",
       "      <td>2</td>\n",
       "      <td>892</td>\n",
       "      <td>81</td>\n",
       "    </tr>\n",
       "    <tr>\n",
       "      <th>ACEH - ACEH TENGGARA</th>\n",
       "      <td>397</td>\n",
       "      <td>1</td>\n",
       "      <td>374</td>\n",
       "      <td>22</td>\n",
       "    </tr>\n",
       "    <tr>\n",
       "      <th>ACEH - ACEH TIMUR</th>\n",
       "      <td>598</td>\n",
       "      <td>2</td>\n",
       "      <td>544</td>\n",
       "      <td>52</td>\n",
       "    </tr>\n",
       "    <tr>\n",
       "      <th>ACEH - ACEH TENGAH</th>\n",
       "      <td>1611</td>\n",
       "      <td>0</td>\n",
       "      <td>1532</td>\n",
       "      <td>79</td>\n",
       "    </tr>\n",
       "    <tr>\n",
       "      <th>ACEH - ACEH BARAT</th>\n",
       "      <td>1342</td>\n",
       "      <td>2</td>\n",
       "      <td>1271</td>\n",
       "      <td>69</td>\n",
       "    </tr>\n",
       "    <tr>\n",
       "      <th>...</th>\n",
       "      <td>...</td>\n",
       "      <td>...</td>\n",
       "      <td>...</td>\n",
       "      <td>...</td>\n",
       "    </tr>\n",
       "    <tr>\n",
       "      <th>KALIMANTAN UTARA - KOTA TARAKAN</th>\n",
       "      <td>17137</td>\n",
       "      <td>9</td>\n",
       "      <td>16756</td>\n",
       "      <td>372</td>\n",
       "    </tr>\n",
       "    <tr>\n",
       "      <th>KALIMANTAN UTARA - BULUNGAN</th>\n",
       "      <td>14353</td>\n",
       "      <td>11</td>\n",
       "      <td>14120</td>\n",
       "      <td>222</td>\n",
       "    </tr>\n",
       "    <tr>\n",
       "      <th>KALIMANTAN UTARA - NUNUKAN</th>\n",
       "      <td>7231</td>\n",
       "      <td>1</td>\n",
       "      <td>7087</td>\n",
       "      <td>143</td>\n",
       "    </tr>\n",
       "    <tr>\n",
       "      <th>KALIMANTAN UTARA - MALINAU</th>\n",
       "      <td>4277</td>\n",
       "      <td>1</td>\n",
       "      <td>4182</td>\n",
       "      <td>94</td>\n",
       "    </tr>\n",
       "    <tr>\n",
       "      <th>KALIMANTAN UTARA - TANA TIDUNG</th>\n",
       "      <td>2399</td>\n",
       "      <td>3</td>\n",
       "      <td>2367</td>\n",
       "      <td>29</td>\n",
       "    </tr>\n",
       "  </tbody>\n",
       "</table>\n",
       "<p>514 rows × 4 columns</p>\n",
       "</div>"
      ],
      "text/plain": [
       "                                Kasus Kumulatif Positif Kasus Aktif  \\\n",
       "Kabkot                                                                \n",
       "ACEH - ACEH SELATAN                                 975           2   \n",
       "ACEH - ACEH TENGGARA                                397           1   \n",
       "ACEH - ACEH TIMUR                                   598           2   \n",
       "ACEH - ACEH TENGAH                                 1611           0   \n",
       "ACEH - ACEH BARAT                                  1342           2   \n",
       "...                                                 ...         ...   \n",
       "KALIMANTAN UTARA - KOTA TARAKAN                   17137           9   \n",
       "KALIMANTAN UTARA - BULUNGAN                       14353          11   \n",
       "KALIMANTAN UTARA - NUNUKAN                         7231           1   \n",
       "KALIMANTAN UTARA - MALINAU                         4277           1   \n",
       "KALIMANTAN UTARA - TANA TIDUNG                     2399           3   \n",
       "\n",
       "                                Kasus Kumulatif Sembuh  \\\n",
       "Kabkot                                                   \n",
       "ACEH - ACEH SELATAN                                892   \n",
       "ACEH - ACEH TENGGARA                               374   \n",
       "ACEH - ACEH TIMUR                                  544   \n",
       "ACEH - ACEH TENGAH                                1532   \n",
       "ACEH - ACEH BARAT                                 1271   \n",
       "...                                                ...   \n",
       "KALIMANTAN UTARA - KOTA TARAKAN                  16756   \n",
       "KALIMANTAN UTARA - BULUNGAN                      14120   \n",
       "KALIMANTAN UTARA - NUNUKAN                        7087   \n",
       "KALIMANTAN UTARA - MALINAU                        4182   \n",
       "KALIMANTAN UTARA - TANA TIDUNG                    2367   \n",
       "\n",
       "                                Kasus Kumulatif Meninggal  \n",
       "Kabkot                                                     \n",
       "ACEH - ACEH SELATAN                                    81  \n",
       "ACEH - ACEH TENGGARA                                   22  \n",
       "ACEH - ACEH TIMUR                                      52  \n",
       "ACEH - ACEH TENGAH                                     79  \n",
       "ACEH - ACEH BARAT                                      69  \n",
       "...                                                   ...  \n",
       "KALIMANTAN UTARA - KOTA TARAKAN                       372  \n",
       "KALIMANTAN UTARA - BULUNGAN                           222  \n",
       "KALIMANTAN UTARA - NUNUKAN                            143  \n",
       "KALIMANTAN UTARA - MALINAU                             94  \n",
       "KALIMANTAN UTARA - TANA TIDUNG                         29  \n",
       "\n",
       "[514 rows x 4 columns]"
      ]
     },
     "execution_count": 31,
     "metadata": {},
     "output_type": "execute_result"
    }
   ],
   "source": [
    "df_final"
   ]
  },
  {
   "cell_type": "code",
   "execution_count": 16,
   "id": "802fc81b",
   "metadata": {},
   "outputs": [],
   "source": [
    "from oauth2client.service_account import ServiceAccountCredentials\n",
    "import gspread"
   ]
  },
  {
   "cell_type": "code",
   "execution_count": 17,
   "id": "5faf8af6",
   "metadata": {},
   "outputs": [],
   "source": [
    "scope = [\n",
    "\"https://spreadsheets.google.com/feeds\",\n",
    "'https://www.googleapis.com/auth/spreadsheets',\n",
    "\"https://www.googleapis.com/auth/drive.file\",\n",
    "\"https://www.googleapis.com/auth/drive\"]\n",
    "\n",
    "creds = ServiceAccountCredentials.from_json_keyfile_name(\"premise-530f3762fbef.json\", scope)\n",
    "client = gspread.authorize(creds)\n",
    "sheet = client.open(\"COVID-19\")\n",
    "vaksin = pd.DataFrame(sheet.worksheet(\"Vaksinasi Nasional\").get_all_records())"
   ]
  },
  {
   "cell_type": "code",
   "execution_count": 20,
   "id": "3cdf7434",
   "metadata": {},
   "outputs": [],
   "source": [
    "sheet1 = sheet.worksheet(\"Confirm (Kab)\")"
   ]
  },
  {
   "cell_type": "code",
   "execution_count": 36,
   "id": "5dee5661",
   "metadata": {},
   "outputs": [
    {
     "ename": "AttributeError",
     "evalue": "'Worksheet' object has no attribute 'insert_columns'",
     "output_type": "error",
     "traceback": [
      "\u001b[1;31m---------------------------------------------------------------------------\u001b[0m",
      "\u001b[1;31mAttributeError\u001b[0m                            Traceback (most recent call last)",
      "\u001b[1;32m<ipython-input-36-480db1d87149>\u001b[0m in \u001b[0;36m<module>\u001b[1;34m\u001b[0m\n\u001b[1;32m----> 1\u001b[1;33m \u001b[0msheet1\u001b[0m\u001b[1;33m.\u001b[0m\u001b[0minsert_columns\u001b[0m\u001b[1;33m(\u001b[0m\u001b[1;34m'cek'\u001b[0m\u001b[1;33m,\u001b[0m\u001b[1;36m0\u001b[0m\u001b[1;33m)\u001b[0m\u001b[1;33m\u001b[0m\u001b[1;33m\u001b[0m\u001b[0m\n\u001b[0m",
      "\u001b[1;31mAttributeError\u001b[0m: 'Worksheet' object has no attribute 'insert_columns'"
     ]
    }
   ],
   "source": [
    "sheet1.insert_columns('cek',0)"
   ]
  },
  {
   "cell_type": "code",
   "execution_count": 37,
   "id": "da1a10ef",
   "metadata": {},
   "outputs": [
    {
     "data": {
      "text/plain": [
       "<Worksheet 'Confirm (Kab)' id:508455729>"
      ]
     },
     "execution_count": 37,
     "metadata": {},
     "output_type": "execute_result"
    }
   ],
   "source": [
    "sheet1"
   ]
  },
  {
   "cell_type": "code",
   "execution_count": null,
   "id": "c580d99b",
   "metadata": {},
   "outputs": [],
   "source": []
  },
  {
   "cell_type": "markdown",
   "id": "3d89e856",
   "metadata": {},
   "source": [
    "## Merapikan Data"
   ]
  },
  {
   "cell_type": "code",
   "execution_count": 10,
   "id": "74269b10",
   "metadata": {},
   "outputs": [],
   "source": [
    "df2 = pd.read_csv('Kamus_Kabkot.csv')\n",
    "df2.set_index('Kabkot', inplace=True)\n",
    "df2.drop('No', axis=1, inplace=True)"
   ]
  },
  {
   "cell_type": "code",
   "execution_count": 11,
   "id": "ac3f617c",
   "metadata": {},
   "outputs": [],
   "source": [
    "df.set_index('Provinsi - Kabupaten/Kota', inplace = True)\n",
    "df_final = df2.join(df)"
   ]
  },
  {
   "cell_type": "code",
   "execution_count": 13,
   "id": "757e45ea",
   "metadata": {},
   "outputs": [],
   "source": [
    "df.to_csv('cek_df1.csv')\n",
    "df2.to_csv('cek_df2.csv')\n",
    "df_final.to_csv('Update Data KabKota.csv')"
   ]
  },
  {
   "cell_type": "code",
   "execution_count": null,
   "id": "46e84c80",
   "metadata": {},
   "outputs": [],
   "source": []
  }
 ],
 "metadata": {
  "kernelspec": {
   "display_name": "Python 3 (ipykernel)",
   "language": "python",
   "name": "python3"
  },
  "language_info": {
   "codemirror_mode": {
    "name": "ipython",
    "version": 3
   },
   "file_extension": ".py",
   "mimetype": "text/x-python",
   "name": "python",
   "nbconvert_exporter": "python",
   "pygments_lexer": "ipython3",
   "version": "3.10.6"
  }
 },
 "nbformat": 4,
 "nbformat_minor": 5
}
