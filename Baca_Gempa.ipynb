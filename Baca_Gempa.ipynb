{
 "cells": [
  {
   "cell_type": "code",
   "execution_count": 15,
   "id": "7940d9f5",
   "metadata": {},
   "outputs": [],
   "source": [
    "import gspread\n",
    "from oauth2client.service_account import ServiceAccountCredentials\n",
    "import pandas as pd\n",
    "import numpy as np\n",
    "import glob\n",
    "import numbers\n",
    "from datetime import datetime\n",
    "from selenium import webdriver\n",
    "from tableauscraper import TableauScraper as TS\n",
    "from bs4 import BeautifulSoup"
   ]
  },
  {
   "cell_type": "code",
   "execution_count": 16,
   "id": "71b0fb89",
   "metadata": {},
   "outputs": [],
   "source": [
    "df = pd.read_csv('Catatan_Gempa.csv')"
   ]
  },
  {
   "cell_type": "code",
   "execution_count": 17,
   "id": "6f77c311",
   "metadata": {},
   "outputs": [],
   "source": [
    "df['Gabungan Waktu'] = df['Tanggal']+\" \"+df['Waktu']"
   ]
  },
  {
   "cell_type": "code",
   "execution_count": 18,
   "id": "ef5d074f",
   "metadata": {},
   "outputs": [
    {
     "data": {
      "text/html": [
       "<div>\n",
       "<style scoped>\n",
       "    .dataframe tbody tr th:only-of-type {\n",
       "        vertical-align: middle;\n",
       "    }\n",
       "\n",
       "    .dataframe tbody tr th {\n",
       "        vertical-align: top;\n",
       "    }\n",
       "\n",
       "    .dataframe thead th {\n",
       "        text-align: right;\n",
       "    }\n",
       "</style>\n",
       "<table border=\"1\" class=\"dataframe\">\n",
       "  <thead>\n",
       "    <tr style=\"text-align: right;\">\n",
       "      <th></th>\n",
       "      <th>Tanggal</th>\n",
       "      <th>Waktu</th>\n",
       "      <th>Lokasi</th>\n",
       "      <th>Magnitude</th>\n",
       "      <th>Kedalaman</th>\n",
       "      <th>Lokasi Terdampak:</th>\n",
       "      <th>Longitude</th>\n",
       "      <th>Latitude</th>\n",
       "      <th>ID Foto</th>\n",
       "      <th>Gabungan Waktu</th>\n",
       "    </tr>\n",
       "  </thead>\n",
       "  <tbody>\n",
       "    <tr>\n",
       "      <th>0</th>\n",
       "      <td>11/21/2022</td>\n",
       "      <td>13:21:00</td>\n",
       "      <td>10 km BaratDaya KAB-CIANJUR-JABAR</td>\n",
       "      <td>5.6</td>\n",
       "      <td>10</td>\n",
       "      <td>V-VI Kota Cianjur, IV-V Garut, IV-V Sukabumi, ...</td>\n",
       "      <td>107.05</td>\n",
       "      <td>-6.84</td>\n",
       "      <td>1.0</td>\n",
       "      <td>11/21/2022 13:21:00</td>\n",
       "    </tr>\n",
       "    <tr>\n",
       "      <th>1</th>\n",
       "      <td>11/22/2022</td>\n",
       "      <td>13:43:27</td>\n",
       "      <td>Pusat gempa berada di darat 5 km BaratLaut Cia...</td>\n",
       "      <td>2.9</td>\n",
       "      <td>9</td>\n",
       "      <td>II - III Pacet, II - III Ciherang</td>\n",
       "      <td>107.09</td>\n",
       "      <td>-6.82</td>\n",
       "      <td>2.0</td>\n",
       "      <td>11/22/2022 13:43:27</td>\n",
       "    </tr>\n",
       "    <tr>\n",
       "      <th>2</th>\n",
       "      <td>11/22/2022</td>\n",
       "      <td>14:51:15</td>\n",
       "      <td>Pusat gempa berada di darat 2 km TimurLaut Cia...</td>\n",
       "      <td>2.8</td>\n",
       "      <td>37</td>\n",
       "      <td>II - III Ciherang, II - III Pacet</td>\n",
       "      <td>107.14</td>\n",
       "      <td>-6.80</td>\n",
       "      <td>3.0</td>\n",
       "      <td>11/22/2022 14:51:15</td>\n",
       "    </tr>\n",
       "    <tr>\n",
       "      <th>3</th>\n",
       "      <td>11/22/2022</td>\n",
       "      <td>15:52:47</td>\n",
       "      <td>Pusat gempa berada di darat 8 km BaratLaut Kab...</td>\n",
       "      <td>2.6</td>\n",
       "      <td>7</td>\n",
       "      <td>II-III Ciherang, II - III Pacet</td>\n",
       "      <td>107.06</td>\n",
       "      <td>-6.81</td>\n",
       "      <td>4.0</td>\n",
       "      <td>11/22/2022 15:52:47</td>\n",
       "    </tr>\n",
       "    <tr>\n",
       "      <th>4</th>\n",
       "      <td>11/22/2022</td>\n",
       "      <td>16:25:36</td>\n",
       "      <td>Pusat gempa berada di darat 6 km BaratLaut Kab...</td>\n",
       "      <td>2.6</td>\n",
       "      <td>8</td>\n",
       "      <td>II Kec. Cilaku</td>\n",
       "      <td>107.11</td>\n",
       "      <td>-6.77</td>\n",
       "      <td>5.0</td>\n",
       "      <td>11/22/2022 16:25:36</td>\n",
       "    </tr>\n",
       "  </tbody>\n",
       "</table>\n",
       "</div>"
      ],
      "text/plain": [
       "      Tanggal     Waktu                                             Lokasi  \\\n",
       "0  11/21/2022  13:21:00                  10 km BaratDaya KAB-CIANJUR-JABAR   \n",
       "1  11/22/2022  13:43:27  Pusat gempa berada di darat 5 km BaratLaut Cia...   \n",
       "2  11/22/2022  14:51:15  Pusat gempa berada di darat 2 km TimurLaut Cia...   \n",
       "3  11/22/2022  15:52:47  Pusat gempa berada di darat 8 km BaratLaut Kab...   \n",
       "4  11/22/2022  16:25:36  Pusat gempa berada di darat 6 km BaratLaut Kab...   \n",
       "\n",
       "   Magnitude  Kedalaman                                  Lokasi Terdampak:  \\\n",
       "0        5.6         10  V-VI Kota Cianjur, IV-V Garut, IV-V Sukabumi, ...   \n",
       "1        2.9          9                  II - III Pacet, II - III Ciherang   \n",
       "2        2.8         37                  II - III Ciherang, II - III Pacet   \n",
       "3        2.6          7                    II-III Ciherang, II - III Pacet   \n",
       "4        2.6          8                                     II Kec. Cilaku   \n",
       "\n",
       "   Longitude  Latitude  ID Foto       Gabungan Waktu  \n",
       "0     107.05     -6.84      1.0  11/21/2022 13:21:00  \n",
       "1     107.09     -6.82      2.0  11/22/2022 13:43:27  \n",
       "2     107.14     -6.80      3.0  11/22/2022 14:51:15  \n",
       "3     107.06     -6.81      4.0  11/22/2022 15:52:47  \n",
       "4     107.11     -6.77      5.0  11/22/2022 16:25:36  "
      ]
     },
     "execution_count": 18,
     "metadata": {},
     "output_type": "execute_result"
    }
   ],
   "source": [
    "df.head()"
   ]
  },
  {
   "cell_type": "code",
   "execution_count": 19,
   "id": "6d6d78c4",
   "metadata": {},
   "outputs": [],
   "source": [
    "from datetime import datetime"
   ]
  },
  {
   "cell_type": "code",
   "execution_count": 20,
   "id": "239968c9",
   "metadata": {},
   "outputs": [],
   "source": [
    "teks = '-'"
   ]
  },
  {
   "cell_type": "code",
   "execution_count": 21,
   "id": "1bf3ab1a",
   "metadata": {},
   "outputs": [],
   "source": [
    "for i in range (len(df)):\n",
    "    date_temp = datetime.strptime(df['Gabungan Waktu'][i], '%m/%d/%Y %H:%M:%S')\n",
    "    namafile = date_temp.strftime('%Y%m%d%H%M%S')\n",
    "    a = str(df['Latitude'][i])\n",
    "    teks_temp = f\"\"\"\n",
    "    {{\n",
    "        \"Keterangan\":\"{df['Lokasi'][i]}\",\n",
    "        \"area\":\"{df['Lokasi'][i]}\",\n",
    "        \"date\":\"{date_temp.strftime('%d-%m-%y')}\",\n",
    "        \"depth\":\"{df['Kedalaman'][i]} Km\",\n",
    "        \"description\":\"Telah terjadi gempabumi mag:{df['Magnitude'][i]}, lokasi:{df['Lokasi'][i]}, waktu:{date_temp.strftime('%d-%b-%y %H:%M:%S')} WIB, kedlmn:{df['Kedalaman'][i]} Km, gempa ini dirasakan(MMI):{df['Lokasi Terdampak:'][i]}\",\n",
    "        \"event\": \"Gempabumi\",\n",
    "        \"eventid\": \"{date_temp.strftime('%Y%m%d%H%M%S')}\",\n",
    "        \"felt\": \"{df['Lokasi Terdampak:'][i]}\",\n",
    "        \"headline\": \"Info Gempa dirasakan Mag:{df['Magnitude'][i]}, waktu:{date_temp.strftime('%d-%b-%y %H:%M:%S')} WIB, Lok:{a[1:6]} LS, {df['Longitude'][i]} BT ({df['Lokasi'][i]}), Kedlmn:{df['Kedalaman'][i]} Km ::BMKG\",\n",
    "        \"instruction\": \"Hati-hati terhadap gempabumi susulan yang mungkin terjadi\",\n",
    "        \"latitude\": \"{a[1:6]} LS\",\n",
    "        \"longitude\": \"{df['Longitude'][i]} BT\",\n",
    "        \"magnitude\": \"{df['Magnitude'][i]}\",\n",
    "        \"point\": {{\"coordinates\": \"{df['Longitude'][i]}, {df['Latitude'][i]}\"}},\n",
    "        \"potential\": \"Gempa ini dirasakan untuk diteruskan pada masyarakat\",\n",
    "        \"shakemap\": \"{date_temp.strftime('%Y%m%d%H%M%S')}.mmi.jpg\",\n",
    "        \"subject\": \"Warning Gempa dirasakan\",\n",
    "        \"time\": \"{date_temp.strftime('%H:%M:%S')} WIB\",\n",
    "        \"timesent\": \"{date_temp.strftime('%Y/%m/%d %H:%M:%S')} WIB\",\n",
    "        \"waktu\": \"{date_temp.strftime('%Y-%m-%d %H:%M:%S')}\"\n",
    "        }}\n",
    "    \"\"\"\n",
    "    teks = teks +teks_temp\n",
    "    file1 = open(f\"Gempa.txt\",\"w\")\n",
    "    # \\n is placed to indicate EOL (End of Line)\n",
    "    file1.write(teks)\n",
    "file1.close() #to change file access modes\n"
   ]
  },
  {
   "cell_type": "code",
   "execution_count": 29,
   "id": "3399bb26",
   "metadata": {},
   "outputs": [
    {
     "data": {
      "text/plain": [
       "'107.08'"
      ]
     },
     "execution_count": 29,
     "metadata": {},
     "output_type": "execute_result"
    }
   ],
   "source": [
    "b = str(df['Longitude'][i])\n",
    "b[0:6]"
   ]
  },
  {
   "cell_type": "code",
   "execution_count": null,
   "id": "cb909cd5",
   "metadata": {},
   "outputs": [],
   "source": []
  },
  {
   "cell_type": "code",
   "execution_count": 26,
   "id": "997ae007",
   "metadata": {},
   "outputs": [
    {
     "data": {
      "text/plain": [
       "'6.83'"
      ]
     },
     "execution_count": 26,
     "metadata": {},
     "output_type": "execute_result"
    }
   ],
   "source": [
    "a = str(df['Latitude'][i])\n",
    "a[1:6]"
   ]
  },
  {
   "cell_type": "code",
   "execution_count": 9,
   "id": "0b789c89",
   "metadata": {},
   "outputs": [
    {
     "data": {
      "text/plain": [
       "'20221130222434'"
      ]
     },
     "execution_count": 9,
     "metadata": {},
     "output_type": "execute_result"
    }
   ],
   "source": [
    "namafile"
   ]
  },
  {
   "cell_type": "code",
   "execution_count": null,
   "id": "74e42e8d",
   "metadata": {},
   "outputs": [],
   "source": []
  }
 ],
 "metadata": {
  "kernelspec": {
   "display_name": "Python 3 (ipykernel)",
   "language": "python",
   "name": "python3"
  },
  "language_info": {
   "codemirror_mode": {
    "name": "ipython",
    "version": 3
   },
   "file_extension": ".py",
   "mimetype": "text/x-python",
   "name": "python",
   "nbconvert_exporter": "python",
   "pygments_lexer": "ipython3",
   "version": "3.10.6"
  }
 },
 "nbformat": 4,
 "nbformat_minor": 5
}
